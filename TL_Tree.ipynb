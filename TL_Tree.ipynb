{
  "nbformat": 4,
  "nbformat_minor": 0,
  "metadata": {
    "colab": {
      "provenance": [],
      "authorship_tag": "ABX9TyPCDAArnRR+3dKeyfybXyVL",
      "include_colab_link": true
    },
    "kernelspec": {
      "name": "python3",
      "display_name": "Python 3"
    },
    "language_info": {
      "name": "python"
    }
  },
  "cells": [
    {
      "cell_type": "markdown",
      "metadata": {
        "id": "view-in-github",
        "colab_type": "text"
      },
      "source": [
        "<a href=\"https://colab.research.google.com/github/abdou-brahmia/Face-Recognition-in-Colab-Notebook/blob/main/TL_Tree.ipynb\" target=\"_parent\"><img src=\"https://colab.research.google.com/assets/colab-badge.svg\" alt=\"Open In Colab\"/></a>"
      ]
    },
    {
      "cell_type": "code",
      "source": [
        "%%capture\n",
        "from sklearn.cluster import KMeans,DBSCAN\n",
        "from sklearn.preprocessing import StandardScaler\n",
        "from collections import Counter\n",
        "from google.colab import drive\n",
        "from datetime import datetime\n",
        "import tensorflow as tf\n",
        "import pandas as pd\n",
        "import numpy as np\n",
        "import warnings\n",
        "import pdb\n",
        "import re\n",
        "import time\n",
        "import timeit\n",
        "import matplotlib.pyplot as plt\n",
        "\n",
        "warnings.filterwarnings(\"ignore\")"
      ],
      "metadata": {
        "id": "oLQqYq2dF4Ff"
      },
      "execution_count": 156,
      "outputs": []
    },
    {
      "cell_type": "code",
      "source": [
        "# Mount Google Drive\n",
        "drive.mount('/content/drive')\n",
        "file_path = '/content/drive/My Drive/dataset/Apt20_2015.csv'\n",
        "\n",
        "# Read the CSV file into a DataFrame\n",
        "all_df = pd.read_csv(file_path)"
      ],
      "metadata": {
        "colab": {
          "base_uri": "https://localhost:8080/"
        },
        "id": "68J630HoVca5",
        "outputId": "7192cbbf-fba7-4031-b21c-77aaf1a7cccf"
      },
      "execution_count": 2,
      "outputs": [
        {
          "output_type": "stream",
          "name": "stdout",
          "text": [
            "Mounted at /content/drive\n"
          ]
        }
      ]
    },
    {
      "cell_type": "code",
      "source": [
        "# prompt: use the 2000 first item of df\n",
        "# df = all_df.head(2000)\n",
        "df= all_df.copy()"
      ],
      "metadata": {
        "id": "drWklIB1DTP0"
      },
      "execution_count": 9,
      "outputs": []
    },
    {
      "cell_type": "code",
      "source": [
        "\n",
        "X = df['consumption'].values.reshape(-1, 1)\n",
        "\n",
        "# Standardize the data\n",
        "scaler = StandardScaler()\n",
        "X_scaled = scaler.fit_transform(X)"
      ],
      "metadata": {
        "id": "Naof6pzGDjKM"
      },
      "execution_count": 10,
      "outputs": []
    },
    {
      "cell_type": "code",
      "execution_count": 157,
      "metadata": {
        "id": "E-pBUAB2u7e-"
      },
      "outputs": [],
      "source": [
        "class TreeNode():\n",
        "  def __init__(self):\n",
        "    self.left = None\n",
        "    self.right = None\n",
        "    self.key=None\n",
        "\n",
        "class LeafNode():\n",
        "  def __init__(self):\n",
        "    self.left=None\n",
        "    self.right=None\n",
        "    self.key=None\n",
        "    self.data=[]\n",
        "    self.consumption_range = None\n",
        "    self.level = None\n",
        "    self.timeRange= None\n"
      ]
    },
    {
      "cell_type": "code",
      "source": [
        "def Insert (c,pt,father):\n",
        "  # print(c)\n",
        "  # print(level(c))\n",
        "\n",
        "  global p,root\n",
        "  if p is None :\n",
        "    p = LeafNode()\n",
        "    p.data=c\n",
        "    p.level=level(c)\n",
        "\n",
        "  elif pt is None :\n",
        "    pt = LeafNode()\n",
        "    pt.data=c\n",
        "    pt.level=level(c)\n",
        "\n",
        "  else:\n",
        "    if pt.level > level(c) :\n",
        "      if pt.right is None:\n",
        "        pt.right = LeafNode()\n",
        "        pt.right.data=c\n",
        "        pt.right.level=level(c)\n",
        "\n",
        "      else:\n",
        "        Insert(c,pt.right,True)\n",
        "    elif pt.level < level(c) :\n",
        "      # pdb.set_trace()\n",
        "      if father == False:\n",
        "        t = LeafNode()\n",
        "        t.data=c\n",
        "        t.level=level(c)\n",
        "        t.left = p\n",
        "        p = t\n",
        "      else:\n",
        "        t = TreeNode()\n",
        "        t.left = root\n",
        "        t.right = p\n",
        "        root = t\n",
        "\n",
        "        p=LeafNode()\n",
        "        p.data=c\n",
        "        p.level=level(c)\n",
        "    elif pt.level == level(c) :  # 000\n",
        "      t = TreeNode()\n",
        "      t.left = root\n",
        "      t.right = p\n",
        "      root = t\n",
        "\n",
        "      p=LeafNode()\n",
        "      p.data=c\n",
        "      p.level=level(c)\n"
      ],
      "metadata": {
        "id": "XCktCHaMM_ia"
      },
      "execution_count": 195,
      "outputs": []
    },
    {
      "cell_type": "code",
      "source": [
        "def get_consumption_level(input_value, consumption_ranges):\n",
        "  for level, (start, end) in enumerate(consumption_ranges): # Iterate through consumption ranges to find the level\n",
        "    if start <= input_value <= end:\n",
        "      return level+1\n",
        "  return -1      # If input doesn't match any level, return -1 or handle accordingly\n",
        "\n",
        "def level(data):\n",
        "  if data is not None:\n",
        "    return get_consumption_level(data[0][0],consumption_ranges)\n",
        "  else:\n",
        "    return False\n",
        "\n",
        "def add_to_cluster(input_value,date_time):\n",
        "  if consumptionLevel <= len(consumption_ranges):    # Check if the input value falls within the specified consumption level\n",
        "    start, end = consumption_ranges[consumptionLevel-1]\n",
        "    if start <= input_value <= end:\n",
        "      cluster.append((input_value,date_time) )     # If it does, add it to the last cluster with the current system time\n",
        "      return True\n",
        "  return False\n",
        "\n",
        "timeRange = lambda cluster: (min((time for _, time in cluster), default=None), max((time for _, time in cluster), default=None))\n"
      ],
      "metadata": {
        "id": "FQEZLixeD-KM"
      },
      "execution_count": 196,
      "outputs": []
    },
    {
      "cell_type": "code",
      "source": [
        "root=None\n",
        "p=None\n",
        "leafTree=None\n",
        "consumptionLevel=None\n",
        "cntDataBotLevelTree=[]\n",
        "consumption_ranges = [(0, 2.262134443),            # Low consumption\n",
        "                      (2.262134444, 3.218437777),  # Moderate consumption\n",
        "                      (3.218437778, 5.188594443),  # High consumption\n",
        "                      (5.188594444, float('inf'))  # Very high consumption (no upper limit)\n",
        "                      ]\n",
        "\n",
        "cluster=[]\n",
        "\n",
        "if __name__ == \"__main__\":\n",
        "\n",
        "  dataToBeInserted=[\n",
        "      (\"2015-01-01 00:00\",\"3.314261111\"),(\"2015-01-01 00:15\",\"2.32807\"),(\"2015-01-01 00:30\",\"2.029956667\"),(\"2015-01-01 00:45\",\"3.613077778\"),(\"2015-01-01 01:00\",\"6.751782222\"),(\"2015-01-01 01:15\",\"1.99021\")\n",
        "      ,(\"2015-01-01 01:30\",\"3.212091111\"),(\"2015-01-01 01:45\",\"1.634281111\"),(\"2015-01-01 02:00\",\"1.865245556\"),(\"2015-01-01 02:15\",\"2.715622222\"),(\"2015-01-01 02:30\",\"2.174794444\"),(\"2015-01-01 02:45\",\"2.077188889\")\n",
        "      ,(\"2015-01-01 03:00\",\"1.730263333\"),(\"2015-01-01 03:15\",\"2.472225556\"),(\"2015-01-01 03:30\",\"2.153677778\"),(\"2015-01-01 03:45\",\"2.121908889\"),(\"2015-01-01 04:00\",\"1.882377778\"),(\"2015-01-01 04:15\",\"1.765545556\")\n",
        "      ,(\"2015-01-01 04:30\",\"2.233441111\"),(\"2015-01-01 04:45\",\"2.164094444\"),(\"2015-01-01 05:00\",\"1.683648889\"),(\"2015-01-01 05:15\",\"2.573188889\"),(\"2015-01-01 05:30\",\"2.289676667\"),(\"2015-01-01 05:45\",\"1.664597778\")\n",
        "      ,(\"2015-01-01 06:00\",\"1.856214444\"),(\"2015-01-01 06:15\",\"2.321298889\"),(\"2015-01-01 06:30\",\"1.738966667\"),(\"2015-01-01 06:45\",\"2.496932222\"),(\"2015-01-01 07:00\",\"1.354098889\"),(\"2015-01-01 07:15\",\"2.108187778\")\n",
        "      ,(\"2015-01-01 07:30\",\"2.149262222\"),(\"2015-01-01 07:45\",\"2.083576667\"),(\"2015-01-01 08:00\",\"2.008648889\"),(\"2015-01-01 08:15\",\"2.202224444\"),(\"2015-01-01 08:30\",\"1.671798889\"),(\"2015-01-01 08:45\",\"1.834645556\")\n",
        "      ,(\"2015-01-01 09:00\",\"2.180925556\"),(\"2015-01-01 09:15\",\"1.878954444\"),(\"2015-01-01 09:30\",\"1.833906667\"),(\"2015-01-01 09:45\",\"3.305715556\"),(\"2015-01-01 10:00\",\"2.021498889\"),(\"2015-01-01 10:15\",\"1.610221111\")\n",
        "      ,(\"2015-01-01 10:30\",\"2.159315556\"),(\"2015-01-01 10:45\",\"2.311312222\"),(\"2015-01-01 11:00\",\"1.56287\"),(\"2015-01-01 11:15\",\"2.122522222\"),(\"2015-01-01 11:30\",\"2.315494444\"),(\"2015-01-01 11:45\",\"1.771078889\")\n",
        "      ,(\"2015-01-01 12:00\",\"3.973655556\"),(\"2015-01-01 12:15\",\"4.947998889\"),(\"2015-01-01 12:30\",\"3.06648\"),(\"2015-01-01 12:45\",\"2.548463333\"),(\"2015-01-01 13:00\",\"4.698215556\"),(\"2015-01-01 13:15\",\"3.359492222\")\n",
        "      ,(\"2015-01-01 13:30\",\"1.861346667\"),(\"2015-01-01 13:45\",\"2.736235556\"),(\"2015-01-01 14:00\",\"2.043573333\"),(\"2015-01-01 14:15\",\"2.588803333\"),(\"2015-01-01 14:30\",\"2.352697778\"),(\"2015-01-01 14:45\",\"2.845913333\")\n",
        "      ,(\"2015-01-01 15:00\",\"3.752213333\"),(\"2015-01-01 15:15\",\"2.847732222\"),(\"2015-01-01 15:30\",\"1.851998889\"),(\"2015-01-01 15:45\",\"2.876993333\"),(\"2015-01-01 16:00\",\"1.962302222\"),(\"2015-01-01 16:15\",\"2.911615556\")\n",
        "      ,(\"2015-01-01 16:30\",\"1.801595556\"),(\"2015-01-01 16:45\",\"2.781727778\"),(\"2015-01-01 17:00\",\"2.010264444\"),(\"2015-01-01 17:15\",\"2.623134444\"),(\"2015-01-01 17:30\",\"2.185772222\"),(\"2015-01-01 17:45\",\"2.05806\")\n",
        "      ,(\"2015-01-01 18:00\",\"2.830848889\"),(\"2015-01-01 18:15\",\"1.954064444\"),(\"2015-01-01 18:30\",\"2.913497778\"),(\"2015-01-01 18:45\",\"1.91469\"),(\"2015-01-01 19:00\",\"2.845478889\"),(\"2015-01-01 19:15\",\"2.0974\")\n",
        "      ,(\"2015-01-01 19:30\",\"2.25873\"),(\"2015-01-01 19:45\",\"2.763965556\"),(\"2015-01-01 20:00\",\"2.08922\"),(\"2015-01-01 20:15\",\"2.572121111\"),(\"2015-01-01 20:30\",\"2.358494444\"),(\"2015-01-01 20:45\",\"2.867326667\")\n",
        "      ,(\"2015-01-01 21:00\",\"2.743514444\"),(\"2015-01-01 21:15\",\"1.955302222\"),(\"2015-01-01 21:30\",\"3.576133333\"),(\"2015-01-01 21:45\",\"2.205018889\"),(\"2015-01-01 22:00\",\"2.535716667\"),(\"2015-01-01 22:15\",\"2.374104444\")\n",
        "      ,(\"2015-01-01 22:30\",\"2.421791111\"),(\"2015-01-01 22:45\",\"2.562703333\"),(\"2015-01-01 23:00\",\"2.410865556\"),(\"2015-01-01 23:15\",\"2.513002222\"),(\"2015-01-01 23:30\",\"2.276505556\"),(\"2015-01-01 23:45\",\"2.304164444\")\n",
        "      ]\n",
        "\n",
        "  for date,user_input in dataToBeInserted:\n",
        "    user_input = float(user_input)\n",
        "    # pdb.set_trace()\n",
        "    if consumptionLevel==None:\n",
        "      consumptionLevel =get_consumption_level(user_input,consumption_ranges)\n",
        "      add_to_cluster(user_input,date)\n",
        "    else:\n",
        "      if add_to_cluster(user_input,date) == False:\n",
        "        Insert (cluster,p,False)\n",
        "        cluster=[]\n",
        "        consumptionLevel =get_consumption_level(user_input,consumption_ranges)\n",
        "        add_to_cluster(user_input,date)\n",
        "\n",
        "  if cluster is not None :\n",
        "    Insert (cluster,p,False)\n"
      ],
      "metadata": {
        "id": "Xa8UX94YBuzv"
      },
      "execution_count": 197,
      "outputs": []
    },
    {
      "cell_type": "code",
      "source": [
        "level([[6.7517822]])"
      ],
      "metadata": {
        "colab": {
          "base_uri": "https://localhost:8080/"
        },
        "id": "aS54t-gE0tok",
        "outputId": "6e586103-1e72-4c5c-b3b9-5fcaa7908286"
      },
      "execution_count": 198,
      "outputs": [
        {
          "output_type": "execute_result",
          "data": {
            "text/plain": [
              "4"
            ]
          },
          "metadata": {},
          "execution_count": 198
        }
      ]
    },
    {
      "cell_type": "code",
      "source": [
        "vars(root.left.left.left.left.left.left.right)"
      ],
      "metadata": {
        "colab": {
          "base_uri": "https://localhost:8080/"
        },
        "id": "fuvp9n1RfdQe",
        "outputId": "92643491-abac-4d91-d171-1bfeebc8a94b"
      },
      "execution_count": 199,
      "outputs": [
        {
          "output_type": "execute_result",
          "data": {
            "text/plain": [
              "{'left': None,\n",
              " 'right': <__main__.LeafNode at 0x7cebd01350f0>,\n",
              " 'key': None,\n",
              " 'data': [(2.781727778, '2015-01-01 16:45')],\n",
              " 'consumption_range': None,\n",
              " 'level': 2,\n",
              " 'timeRange': None}"
            ]
          },
          "metadata": {},
          "execution_count": 199
        }
      ]
    },
    {
      "cell_type": "code",
      "source": [
        "root=None\n",
        "p=None\n",
        "leafTree=None\n",
        "consumptionLevel=None\n",
        "cntDataBotLevelTree=[]\n",
        "consumption_ranges = [(0, 2.262134443),            # Low consumption\n",
        "                      (2.262134444, 3.218437777),  # Moderate consumption\n",
        "                      (3.218437778, 5.188594443),  # High consumption\n",
        "                      (5.188594444, float('inf'))  # Very high consumption (no upper limit)\n",
        "                      ]\n",
        "\n",
        "cluster=[]\n",
        "\n",
        "if __name__ == \"__main__\":\n",
        "  df=all_df.copy()\n",
        "  df=df[:5000]\n",
        "  print(f\"Length of DataFrame: {len(df)}\")\n",
        "\n",
        "  for index, row in df.iterrows():\n",
        "    # pdb.set_trace()\n",
        "    user_input = float(row['consumption'])\n",
        "    # pdb.set_trace()\n",
        "    if consumptionLevel==None:\n",
        "      lastCluster=[]\n",
        "      consumptionLevel =get_consumption_level(user_input,consumption_ranges)\n",
        "      add_to_cluster(user_input,date)\n",
        "    else:\n",
        "      if add_to_cluster(user_input,date) == False:\n",
        "        Insert (cluster,p,False)\n",
        "        cluster=[]\n",
        "        consumptionLevel =get_consumption_level(user_input,consumption_ranges)\n",
        "        add_to_cluster(user_input,date)\n",
        "\n",
        "  if cluster is not None :\n",
        "    Insert (cluster,p,False)"
      ],
      "metadata": {
        "colab": {
          "base_uri": "https://localhost:8080/"
        },
        "id": "Ibe_4vo7Vx-N",
        "outputId": "4df1bc7c-2e2c-48cc-e6f7-9e6ca8031f48"
      },
      "execution_count": 211,
      "outputs": [
        {
          "output_type": "stream",
          "name": "stdout",
          "text": [
            "Length of DataFrame: 5000\n"
          ]
        }
      ]
    },
    {
      "cell_type": "markdown",
      "source": [
        "# Test"
      ],
      "metadata": {
        "id": "5AXlPitsKkuD"
      }
    },
    {
      "cell_type": "code",
      "source": [
        "# Function to count the total number of data points in a tree\n",
        "def countDataPointInTree(tree):\n",
        "  cnt=0 # Initialize the count variable\n",
        "  if isinstance(tree, TreeNode):\n",
        "    if tree.left is not None:  # Recursively count data points in the left subtree if exist\n",
        "      cnt+=countDataPointInTree (tree.left)\n",
        "    if tree.right is not None:  # Recursively count data points in the right subtree if exist\n",
        "      cnt+=countDataPointInTree (tree.right)\n",
        "  else:\n",
        "    # Add the count to the total count\n",
        "    cnt+= len(tree.data) # Count the number of data points in the node\n",
        "    if tree.left is not None:\n",
        "      cnt+=countDataPointInTree (tree.left)\n",
        "    if tree.right is not None:\n",
        "      cnt+=countDataPointInTree (tree.right)\n",
        "\n",
        "\n",
        "  # Uncomment the following line if you want to print the count for each tree \"dont recomended\"\n",
        "  # print(f\"Counted {cnt} data points in tree with level {tree.level}\")\n",
        "  return cnt\n",
        "\n",
        "\n",
        "\n",
        "def countTotalNode(tree):\n",
        "  cnt=1 # Initialize the count variable\n",
        "  if tree.left is not None:\n",
        "    cnt+=countTotalNode (tree.left)\n",
        "  if tree.right is not None:\n",
        "    cnt+=countTotalNode (tree.right)\n",
        "  return cnt\n",
        "\n",
        "def countArtificialNode(tree):\n",
        "  return countTotalNode(tree)-countRealNode(tree)\n",
        "\n",
        "def countRealNode(tree):\n",
        "  cnt=0 # Initialize the count variable\n",
        "  if isinstance(tree, TreeNode):\n",
        "    if tree.left is not None:\n",
        "      cnt+=countRealNode (tree.left)\n",
        "    if tree.right is not None:\n",
        "      cnt+=countRealNode (tree.right)\n",
        "  else:\n",
        "    cnt+=1\n",
        "    if tree.left is not None:\n",
        "      cnt +=countRealNode(tree.left)\n",
        "    if tree.right is not None:\n",
        "      cnt +=countRealNode(tree.right)\n",
        "  return cnt\n",
        "\n",
        "def count_clusters_in_each_leaf(tree):\n",
        "  cnt=0 # Initialize the count variable\n",
        "  global cntDataBotLevelTree\n",
        "  if isinstance(tree, TreeNode):\n",
        "\n",
        "    if tree.left is not None: # Recursively count clusters in the left subtree if exist\n",
        "      cnt=count_clusters_in_each_leaf (tree.left)\n",
        "      if isinstance(tree.left, LeafNode):\n",
        "        cntDataBotLevelTree.append(cnt)\n",
        "    if tree.right is not None:  # Recursively count clusters in the right subtree if exist\n",
        "      cnt=count_clusters_in_each_leaf (tree.right)\n",
        "      if isinstance(tree.right, LeafNode):\n",
        "        cntDataBotLevelTree.append(cnt)\n",
        "  else:\n",
        "    cnt+=1\n",
        "    if tree.left is not None:\n",
        "      cnt+=count_clusters_in_each_leaf (tree.left)\n",
        "    if tree.right is not None:\n",
        "      cnt+=count_clusters_in_each_leaf (tree.right)\n",
        "\n",
        "  # Uncomment the following line if you want to print the count for each tree \"dont recomended\"\n",
        "  # print(f\"Counted {cnt} data points in tree with level {tree.level}\")\n",
        "  return cnt\n",
        "\n"
      ],
      "metadata": {
        "id": "goX6vhIDKmZ-"
      },
      "execution_count": 212,
      "outputs": []
    },
    {
      "cell_type": "code",
      "source": [
        "total_count=countDataPointInTree(root)\n",
        "print(f\"Total data points = {total_count}\")\n",
        "\n",
        "var_count_total_node=countTotalNode(root)\n",
        "print(f\"Total Node = {var_count_total_node}\")\n",
        "\n",
        "var_count_artificial_node=countArtificialNode(root)\n",
        "print(f\"Artificial Node = {var_count_artificial_node}\")\n",
        "\n",
        "var_count_real_node=countRealNode(root)\n",
        "print(f\"Real Node = {var_count_real_node}\")\n"
      ],
      "metadata": {
        "colab": {
          "base_uri": "https://localhost:8080/"
        },
        "id": "jGz_6O6jML40",
        "outputId": "7cc4dc54-3e03-46f4-b8de-357989c37abd"
      },
      "execution_count": 213,
      "outputs": [
        {
          "output_type": "stream",
          "name": "stdout",
          "text": [
            "Total data points = 4999\n",
            "Total Node = 3135\n",
            "Artificial Node = 922\n",
            "Real Node = 2213\n"
          ]
        }
      ]
    },
    {
      "cell_type": "code",
      "source": [
        "cntDataBotLevelTree=[]\n",
        "count_clusters_in_each_leaf(root)\n",
        "\n",
        "counter = Counter(cntDataBotLevelTree) # Count occurrences of each number\n",
        "numbers = list(counter.keys())# Separate data for plotting\n",
        "occurrences = list(counter.values())\n",
        "plt.bar(numbers, occurrences) # Plotting the bar diagram\n",
        "\n",
        "# Display the number of occurrences above each bar\n",
        "for num, occ in zip(numbers, occurrences):\n",
        "  plt.text(num, occ + 0.1, str(occ), ha='center', va='bottom')\n",
        "\n",
        "plt.title('Distribution of Cluster Counts in Bot Level Trees')\n",
        "plt.xlabel('Number of cluster')\n",
        "plt.ylabel('Occurrences')\n",
        "plt.xticks(numbers)\n",
        "plt.show()"
      ],
      "metadata": {
        "id": "yh9OS4blctgX",
        "colab": {
          "base_uri": "https://localhost:8080/",
          "height": 472
        },
        "outputId": "2936d910-f03a-42bb-d249-f64186ca3620"
      },
      "execution_count": 214,
      "outputs": [
        {
          "output_type": "display_data",
          "data": {
            "text/plain": [
              "<Figure size 640x480 with 1 Axes>"
            ],
            "image/png": "[encoded data removed]"
          },
          "metadata": {}
        }
      ]
    },
    {
      "cell_type": "code",
      "source": [],
      "metadata": {
        "id": "Y9axsu-B-QEO"
      },
      "execution_count": null,
      "outputs": []
    }
  ]
}