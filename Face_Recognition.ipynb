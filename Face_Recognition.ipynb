{
  "nbformat": 4,
  "nbformat_minor": 0,
  "metadata": {
    "colab": {
      "provenance": [],
      "gpuType": "T4",
      "authorship_tag": "ABX9TyNDVvDxmL4oJRjbEThGxRdg",
      "include_colab_link": true
    },
    "kernelspec": {
      "name": "python3",
      "display_name": "Python 3"
    },
    "language_info": {
      "name": "python"
    },
    "accelerator": "GPU"
  },
  "cells": [
    {
      "cell_type": "markdown",
      "metadata": {
        "id": "view-in-github",
        "colab_type": "text"
      },
      "source": [
        "<a href=\"https://colab.research.google.com/github/abdou-brahmia/Face-Recognition-in-Colab-Notebook/blob/main/Face_Recognition.ipynb\" target=\"_parent\"><img src=\"https://colab.research.google.com/assets/colab-badge.svg\" alt=\"Open In Colab\"/></a>"
      ]
    },
    {
      "cell_type": "markdown",
      "source": [
        "\n",
        "# Face Recognition in Colab Notebook\n",
        "\n",
        "**Set Up Environment**"
      ],
      "metadata": {
        "id": "WOsnu42JKQfo"
      }
    },
    {
      "cell_type": "code",
      "source": [
        "%%capture\n",
        "!pip install face_recognition"
      ],
      "metadata": {
        "id": "cgbUVurjFTRR"
      },
      "execution_count": 1,
      "outputs": []
    },
    {
      "cell_type": "markdown",
      "source": [
        "## 1. Import Necessary Libraries"
      ],
      "metadata": {
        "id": "nmBLmRFMLU5I"
      }
    },
    {
      "cell_type": "code",
      "source": [
        "import matplotlib.pyplot as plt\n",
        "from google.colab import files\n",
        "from numpy import savetxt\n",
        "import face_recognition\n",
        "import requests\n",
        "import pickle\n",
        "import json\n",
        "import cv2\n",
        "import os"
      ],
      "metadata": {
        "id": "ULvMpCRt-m4J"
      },
      "execution_count": 2,
      "outputs": []
    },
    {
      "cell_type": "markdown",
      "source": [
        "## 2. Upload Known and Unknown Faces\n"
      ],
      "metadata": {
        "id": "58XscpYDLa1O"
      }
    },
    {
      "cell_type": "code",
      "source": [
        "# Define folder names\n",
        "folder_names = [\"known_faces\", \"unknown_faces\"]\n",
        "\n",
        "# Loop through each folder\n",
        "for folder_name in folder_names:\n",
        "    # Create the folder if it doesn't exist\n",
        "    folder_path = os.path.join(\"/content\", folder_name)\n",
        "    os.makedirs(folder_path, exist_ok=True)\n",
        "\n",
        "    # Upload files to the folder\n",
        "    uploaded_files = files.upload()\n",
        "    for filename, content in uploaded_files.items():\n",
        "        file_path = os.path.join(folder_path, filename)\n",
        "        with open(file_path, 'wb') as file:\n",
        "            file.write(content)\n",
        "\n",
        "    # Print the list of uploaded files in the folder\n",
        "    print(f\"Files uploaded to folder '{folder_name}': {os.listdir(folder_path)}\")"
      ],
      "metadata": {
        "id": "rhaQh6lkNW9H",
        "colab": {
          "base_uri": "https://localhost:8080/",
          "height": 448
        },
        "outputId": "97f5102f-8ea9-44a8-aedd-5a8d81c86258"
      },
      "execution_count": 3,
      "outputs": [
        {
          "output_type": "display_data",
          "data": {
            "text/plain": [
              "<IPython.core.display.HTML object>"
            ],
            "text/html": [
              "\n",
              "     <input type=\"file\" id=\"files-6c3fb53a-e1db-4508-9e56-01a2bb93761b\" name=\"files[]\" multiple disabled\n",
              "        style=\"border:none\" />\n",
              "     <output id=\"result-6c3fb53a-e1db-4508-9e56-01a2bb93761b\">\n",
              "      Upload widget is only available when the cell has been executed in the\n",
              "      current browser session. Please rerun this cell to enable.\n",
              "      </output>\n",
              "      <script>// Copyright 2017 Google LLC\n",
              "//\n",
              "// Licensed under the Apache License, Version 2.0 (the \"License\");\n",
              "// you may not use this file except in compliance with the License.\n",
              "// You may obtain a copy of the License at\n",
              "//\n",
              "//      http://www.apache.org/licenses/LICENSE-2.0\n",
              "//\n",
              "// Unless required by applicable law or agreed to in writing, software\n",
              "// distributed under the License is distributed on an \"AS IS\" BASIS,\n",
              "// WITHOUT WARRANTIES OR CONDITIONS OF ANY KIND, either express or implied.\n",
              "// See the License for the specific language governing permissions and\n",
              "// limitations under the License.\n",
              "\n",
              "/**\n",
              " * @fileoverview Helpers for google.colab Python module.\n",
              " */\n",
              "(function(scope) {\n",
              "function span(text, styleAttributes = {}) {\n",
              "  const element = document.createElement('span');\n",
              "  element.textContent = text;\n",
              "  for (const key of Object.keys(styleAttributes)) {\n",
              "    element.style[key] = styleAttributes[key];\n",
              "  }\n",
              "  return element;\n",
              "}\n",
              "\n",
              "// Max number of bytes which will be uploaded at a time.\n",
              "const MAX_PAYLOAD_SIZE = 100 * 1024;\n",
              "\n",
              "function _uploadFiles(inputId, outputId) {\n",
              "  const steps = uploadFilesStep(inputId, outputId);\n",
              "  const outputElement = document.getElementById(outputId);\n",
              "  // Cache steps on the outputElement to make it available for the next call\n",
              "  // to uploadFilesContinue from Python.\n",
              "  outputElement.steps = steps;\n",
              "\n",
              "  return _uploadFilesContinue(outputId);\n",
              "}\n",
              "\n",
              "// This is roughly an async generator (not supported in the browser yet),\n",
              "// where there are multiple asynchronous steps and the Python side is going\n",
              "// to poll for completion of each step.\n",
              "// This uses a Promise to block the python side on completion of each step,\n",
              "// then passes the result of the previous step as the input to the next step.\n",
              "function _uploadFilesContinue(outputId) {\n",
              "  const outputElement = document.getElementById(outputId);\n",
              "  const steps = outputElement.steps;\n",
              "\n",
              "  const next = steps.next(outputElement.lastPromiseValue);\n",
              "  return Promise.resolve(next.value.promise).then((value) => {\n",
              "    // Cache the last promise value to make it available to the next\n",
              "    // step of the generator.\n",
              "    outputElement.lastPromiseValue = value;\n",
              "    return next.value.response;\n",
              "  });\n",
              "}\n",
              "\n",
              "/**\n",
              " * Generator function which is called between each async step of the upload\n",
              " * process.\n",
              " * @param {string} inputId Element ID of the input file picker element.\n",
              " * @param {string} outputId Element ID of the output display.\n",
              " * @return {!Iterable<!Object>} Iterable of next steps.\n",
              " */\n",
              "function* uploadFilesStep(inputId, outputId) {\n",
              "  const inputElement = document.getElementById(inputId);\n",
              "  inputElement.disabled = false;\n",
              "\n",
              "  const outputElement = document.getElementById(outputId);\n",
              "  outputElement.innerHTML = '';\n",
              "\n",
              "  const pickedPromise = new Promise((resolve) => {\n",
              "    inputElement.addEventListener('change', (e) => {\n",
              "      resolve(e.target.files);\n",
              "    });\n",
              "  });\n",
              "\n",
              "  const cancel = document.createElement('button');\n",
              "  inputElement.parentElement.appendChild(cancel);\n",
              "  cancel.textContent = 'Cancel upload';\n",
              "  const cancelPromise = new Promise((resolve) => {\n",
              "    cancel.onclick = () => {\n",
              "      resolve(null);\n",
              "    };\n",
              "  });\n",
              "\n",
              "  // Wait for the user to pick the files.\n",
              "  const files = yield {\n",
              "    promise: Promise.race([pickedPromise, cancelPromise]),\n",
              "    response: {\n",
              "      action: 'starting',\n",
              "    }\n",
              "  };\n",
              "\n",
              "  cancel.remove();\n",
              "\n",
              "  // Disable the input element since further picks are not allowed.\n",
              "  inputElement.disabled = true;\n",
              "\n",
              "  if (!files) {\n",
              "    return {\n",
              "      response: {\n",
              "        action: 'complete',\n",
              "      }\n",
              "    };\n",
              "  }\n",
              "\n",
              "  for (const file of files) {\n",
              "    const li = document.createElement('li');\n",
              "    li.append(span(file.name, {fontWeight: 'bold'}));\n",
              "    li.append(span(\n",
              "        `(${file.type || 'n/a'}) - ${file.size} bytes, ` +\n",
              "        `last modified: ${\n",
              "            file.lastModifiedDate ? file.lastModifiedDate.toLocaleDateString() :\n",
              "                                    'n/a'} - `));\n",
              "    const percent = span('0% done');\n",
              "    li.appendChild(percent);\n",
              "\n",
              "    outputElement.appendChild(li);\n",
              "\n",
              "    const fileDataPromise = new Promise((resolve) => {\n",
              "      const reader = new FileReader();\n",
              "      reader.onload = (e) => {\n",
              "        resolve(e.target.result);\n",
              "      };\n",
              "      reader.readAsArrayBuffer(file);\n",
              "    });\n",
              "    // Wait for the data to be ready.\n",
              "    let fileData = yield {\n",
              "      promise: fileDataPromise,\n",
              "      response: {\n",
              "        action: 'continue',\n",
              "      }\n",
              "    };\n",
              "\n",
              "    // Use a chunked sending to avoid message size limits. See b/62115660.\n",
              "    let position = 0;\n",
              "    do {\n",
              "      const length = Math.min(fileData.byteLength - position, MAX_PAYLOAD_SIZE);\n",
              "      const chunk = new Uint8Array(fileData, position, length);\n",
              "      position += length;\n",
              "\n",
              "      const base64 = btoa(String.fromCharCode.apply(null, chunk));\n",
              "      yield {\n",
              "        response: {\n",
              "          action: 'append',\n",
              "          file: file.name,\n",
              "          data: base64,\n",
              "        },\n",
              "      };\n",
              "\n",
              "      let percentDone = fileData.byteLength === 0 ?\n",
              "          100 :\n",
              "          Math.round((position / fileData.byteLength) * 100);\n",
              "      percent.textContent = `${percentDone}% done`;\n",
              "\n",
              "    } while (position < fileData.byteLength);\n",
              "  }\n",
              "\n",
              "  // All done.\n",
              "  yield {\n",
              "    response: {\n",
              "      action: 'complete',\n",
              "    }\n",
              "  };\n",
              "}\n",
              "\n",
              "scope.google = scope.google || {};\n",
              "scope.google.colab = scope.google.colab || {};\n",
              "scope.google.colab._files = {\n",
              "  _uploadFiles,\n",
              "  _uploadFilesContinue,\n",
              "};\n",
              "})(self);\n",
              "</script> "
            ]
          },
          "metadata": {}
        },
        {
          "output_type": "stream",
          "name": "stdout",
          "text": [
            "Saving biden.jpg to biden.jpg\n",
            "Saving Cristiano Ronaldo.jpg to Cristiano Ronaldo.jpg\n",
            "Saving Houari Boumediene.jpg to Houari Boumediene.jpg\n",
            "Saving obama.jpg to obama.jpg\n",
            "Files uploaded to folder 'known_faces': ['biden.jpg', 'Cristiano Ronaldo.jpg', 'obama.jpg', 'Houari Boumediene.jpg']\n"
          ]
        },
        {
          "output_type": "display_data",
          "data": {
            "text/plain": [
              "<IPython.core.display.HTML object>"
            ],
            "text/html": [
              "\n",
              "     <input type=\"file\" id=\"files-fa431beb-7081-4948-b96f-10f1ddb09408\" name=\"files[]\" multiple disabled\n",
              "        style=\"border:none\" />\n",
              "     <output id=\"result-fa431beb-7081-4948-b96f-10f1ddb09408\">\n",
              "      Upload widget is only available when the cell has been executed in the\n",
              "      current browser session. Please rerun this cell to enable.\n",
              "      </output>\n",
              "      <script>// Copyright 2017 Google LLC\n",
              "//\n",
              "// Licensed under the Apache License, Version 2.0 (the \"License\");\n",
              "// you may not use this file except in compliance with the License.\n",
              "// You may obtain a copy of the License at\n",
              "//\n",
              "//      http://www.apache.org/licenses/LICENSE-2.0\n",
              "//\n",
              "// Unless required by applicable law or agreed to in writing, software\n",
              "// distributed under the License is distributed on an \"AS IS\" BASIS,\n",
              "// WITHOUT WARRANTIES OR CONDITIONS OF ANY KIND, either express or implied.\n",
              "// See the License for the specific language governing permissions and\n",
              "// limitations under the License.\n",
              "\n",
              "/**\n",
              " * @fileoverview Helpers for google.colab Python module.\n",
              " */\n",
              "(function(scope) {\n",
              "function span(text, styleAttributes = {}) {\n",
              "  const element = document.createElement('span');\n",
              "  element.textContent = text;\n",
              "  for (const key of Object.keys(styleAttributes)) {\n",
              "    element.style[key] = styleAttributes[key];\n",
              "  }\n",
              "  return element;\n",
              "}\n",
              "\n",
              "// Max number of bytes which will be uploaded at a time.\n",
              "const MAX_PAYLOAD_SIZE = 100 * 1024;\n",
              "\n",
              "function _uploadFiles(inputId, outputId) {\n",
              "  const steps = uploadFilesStep(inputId, outputId);\n",
              "  const outputElement = document.getElementById(outputId);\n",
              "  // Cache steps on the outputElement to make it available for the next call\n",
              "  // to uploadFilesContinue from Python.\n",
              "  outputElement.steps = steps;\n",
              "\n",
              "  return _uploadFilesContinue(outputId);\n",
              "}\n",
              "\n",
              "// This is roughly an async generator (not supported in the browser yet),\n",
              "// where there are multiple asynchronous steps and the Python side is going\n",
              "// to poll for completion of each step.\n",
              "// This uses a Promise to block the python side on completion of each step,\n",
              "// then passes the result of the previous step as the input to the next step.\n",
              "function _uploadFilesContinue(outputId) {\n",
              "  const outputElement = document.getElementById(outputId);\n",
              "  const steps = outputElement.steps;\n",
              "\n",
              "  const next = steps.next(outputElement.lastPromiseValue);\n",
              "  return Promise.resolve(next.value.promise).then((value) => {\n",
              "    // Cache the last promise value to make it available to the next\n",
              "    // step of the generator.\n",
              "    outputElement.lastPromiseValue = value;\n",
              "    return next.value.response;\n",
              "  });\n",
              "}\n",
              "\n",
              "/**\n",
              " * Generator function which is called between each async step of the upload\n",
              " * process.\n",
              " * @param {string} inputId Element ID of the input file picker element.\n",
              " * @param {string} outputId Element ID of the output display.\n",
              " * @return {!Iterable<!Object>} Iterable of next steps.\n",
              " */\n",
              "function* uploadFilesStep(inputId, outputId) {\n",
              "  const inputElement = document.getElementById(inputId);\n",
              "  inputElement.disabled = false;\n",
              "\n",
              "  const outputElement = document.getElementById(outputId);\n",
              "  outputElement.innerHTML = '';\n",
              "\n",
              "  const pickedPromise = new Promise((resolve) => {\n",
              "    inputElement.addEventListener('change', (e) => {\n",
              "      resolve(e.target.files);\n",
              "    });\n",
              "  });\n",
              "\n",
              "  const cancel = document.createElement('button');\n",
              "  inputElement.parentElement.appendChild(cancel);\n",
              "  cancel.textContent = 'Cancel upload';\n",
              "  const cancelPromise = new Promise((resolve) => {\n",
              "    cancel.onclick = () => {\n",
              "      resolve(null);\n",
              "    };\n",
              "  });\n",
              "\n",
              "  // Wait for the user to pick the files.\n",
              "  const files = yield {\n",
              "    promise: Promise.race([pickedPromise, cancelPromise]),\n",
              "    response: {\n",
              "      action: 'starting',\n",
              "    }\n",
              "  };\n",
              "\n",
              "  cancel.remove();\n",
              "\n",
              "  // Disable the input element since further picks are not allowed.\n",
              "  inputElement.disabled = true;\n",
              "\n",
              "  if (!files) {\n",
              "    return {\n",
              "      response: {\n",
              "        action: 'complete',\n",
              "      }\n",
              "    };\n",
              "  }\n",
              "\n",
              "  for (const file of files) {\n",
              "    const li = document.createElement('li');\n",
              "    li.append(span(file.name, {fontWeight: 'bold'}));\n",
              "    li.append(span(\n",
              "        `(${file.type || 'n/a'}) - ${file.size} bytes, ` +\n",
              "        `last modified: ${\n",
              "            file.lastModifiedDate ? file.lastModifiedDate.toLocaleDateString() :\n",
              "                                    'n/a'} - `));\n",
              "    const percent = span('0% done');\n",
              "    li.appendChild(percent);\n",
              "\n",
              "    outputElement.appendChild(li);\n",
              "\n",
              "    const fileDataPromise = new Promise((resolve) => {\n",
              "      const reader = new FileReader();\n",
              "      reader.onload = (e) => {\n",
              "        resolve(e.target.result);\n",
              "      };\n",
              "      reader.readAsArrayBuffer(file);\n",
              "    });\n",
              "    // Wait for the data to be ready.\n",
              "    let fileData = yield {\n",
              "      promise: fileDataPromise,\n",
              "      response: {\n",
              "        action: 'continue',\n",
              "      }\n",
              "    };\n",
              "\n",
              "    // Use a chunked sending to avoid message size limits. See b/62115660.\n",
              "    let position = 0;\n",
              "    do {\n",
              "      const length = Math.min(fileData.byteLength - position, MAX_PAYLOAD_SIZE);\n",
              "      const chunk = new Uint8Array(fileData, position, length);\n",
              "      position += length;\n",
              "\n",
              "      const base64 = btoa(String.fromCharCode.apply(null, chunk));\n",
              "      yield {\n",
              "        response: {\n",
              "          action: 'append',\n",
              "          file: file.name,\n",
              "          data: base64,\n",
              "        },\n",
              "      };\n",
              "\n",
              "      let percentDone = fileData.byteLength === 0 ?\n",
              "          100 :\n",
              "          Math.round((position / fileData.byteLength) * 100);\n",
              "      percent.textContent = `${percentDone}% done`;\n",
              "\n",
              "    } while (position < fileData.byteLength);\n",
              "  }\n",
              "\n",
              "  // All done.\n",
              "  yield {\n",
              "    response: {\n",
              "      action: 'complete',\n",
              "    }\n",
              "  };\n",
              "}\n",
              "\n",
              "scope.google = scope.google || {};\n",
              "scope.google.colab = scope.google.colab || {};\n",
              "scope.google.colab._files = {\n",
              "  _uploadFiles,\n",
              "  _uploadFilesContinue,\n",
              "};\n",
              "})(self);\n",
              "</script> "
            ]
          },
          "metadata": {}
        },
        {
          "output_type": "stream",
          "name": "stdout",
          "text": [
            "Saving 6000.jpg to 6000.jpg\n",
            "Saving biden3.jpg to biden3.jpg\n",
            "Saving bou2.jpg to bou2.jpg\n",
            "Saving bou4.jpg to bou4.jpg\n",
            "Saving ob2.jpg to ob2.jpg\n",
            "Saving ob3.jpg to ob3.jpg\n",
            "Files uploaded to folder 'unknown_faces': ['biden3.jpg', 'ob2.jpg', 'bou2.jpg', 'ob3.jpg', 'bou4.jpg', '6000.jpg']\n"
          ]
        }
      ]
    },
    {
      "cell_type": "markdown",
      "source": [
        "## 3. Face Recognition Functions\n",
        "\n",
        "**Load Known Faces for Training**"
      ],
      "metadata": {
        "id": "ZPd0CQoV-iAA"
      }
    },
    {
      "cell_type": "code",
      "source": [
        "def load_known_faces(known_faces_folder):\n",
        "    known_faces = []\n",
        "    known_face_names = []\n",
        "\n",
        "    for filename in os.listdir(known_faces_folder):\n",
        "        if filename.endswith(\".jpg\") or filename.endswith(\".png\"):\n",
        "            image_path = os.path.join(known_faces_folder, filename)\n",
        "            image = face_recognition.load_image_file(image_path)\n",
        "            face_encoding = face_recognition.face_encodings(image)[0]\n",
        "            known_faces.append(face_encoding)\n",
        "            known_face_names.append(os.path.splitext(filename)[0])\n",
        "\n",
        "    return known_faces, known_face_names"
      ],
      "metadata": {
        "id": "IMQQ46Wg--x2"
      },
      "execution_count": 4,
      "outputs": []
    },
    {
      "cell_type": "markdown",
      "source": [
        "**Recognize Faces in Unknown Images**"
      ],
      "metadata": {
        "id": "ehVK8NJ7Lym4"
      }
    },
    {
      "cell_type": "code",
      "source": [
        "def recognize_faces(unknown_faces_folder, known_faces, known_face_names):\n",
        "    for filename in os.listdir(unknown_faces_folder):\n",
        "        if filename.endswith(\".jpg\") or filename.endswith(\".png\"):\n",
        "            image_path = os.path.join(unknown_faces_folder, filename)\n",
        "            unknown_image = face_recognition.load_image_file(image_path)\n",
        "            unknown_face_locations = face_recognition.face_locations(unknown_image)\n",
        "            unknown_face_encodings = face_recognition.face_encodings(unknown_image, unknown_face_locations)\n",
        "\n",
        "            for (top, right, bottom, left), unknown_face_encoding in zip(unknown_face_locations, unknown_face_encodings):\n",
        "                matches = face_recognition.compare_faces(known_faces, unknown_face_encoding)\n",
        "                name = \"Unknown\"\n",
        "\n",
        "                if True in matches:\n",
        "                    first_match_index = matches.index(True)\n",
        "                    name = known_face_names[first_match_index]\n",
        "\n",
        "                print(f\"{name} found in {filename}\")"
      ],
      "metadata": {
        "id": "XLEjaIs1Ahaq"
      },
      "execution_count": 5,
      "outputs": []
    },
    {
      "cell_type": "markdown",
      "source": [
        "## 4. Save and Load Known Faces Data\n",
        "\n",
        "\n",
        "```\n",
        "  Save Known Faces Data to File\n",
        "  Load Known Faces Data from File\n",
        "```\n",
        "\n"
      ],
      "metadata": {
        "id": "5bmCKla4L2xR"
      }
    },
    {
      "cell_type": "code",
      "source": [
        "def save_known_faces(known_faces, known_face_names, file_path):\n",
        "    with open(file_path, 'wb') as file:\n",
        "        data = {'known_faces': known_faces, 'known_face_names': known_face_names}\n",
        "        pickle.dump(data, file)\n",
        "\n",
        "def load_known_faces_from_file(file_path):\n",
        "    with open(file_path, 'rb') as file:\n",
        "        data = pickle.load(file)\n",
        "        return data['known_faces'], data['known_face_names']"
      ],
      "metadata": {
        "id": "0JrwDnRDCW-l"
      },
      "execution_count": 6,
      "outputs": []
    },
    {
      "cell_type": "markdown",
      "source": [
        "## 5. Main Function"
      ],
      "metadata": {
        "id": "dnNiTRbdMJUk"
      }
    },
    {
      "cell_type": "code",
      "source": [
        "known_faces_folder = \"/content/known_faces\"\n",
        "unknown_faces_folder = \"/content/unknown_faces\""
      ],
      "metadata": {
        "id": "DJ8ie32sBtgs"
      },
      "execution_count": 7,
      "outputs": []
    },
    {
      "cell_type": "code",
      "source": [
        "def main(known_faces_folder):\n",
        "    known_faces, known_face_names = load_known_faces(known_faces_folder)\n",
        "\n",
        "    # Save known faces data\n",
        "    save_known_faces(known_faces, known_face_names, 'known_faces_data.pkl')\n",
        "\n",
        "    # For camera test\n",
        "    video_capture = cv2.VideoCapture(0)\n",
        "\n",
        "    # Load known faces data from file\n",
        "    # If you want to use the previously saved known faces data, uncomment the following line:\n",
        "    # loaded_known_faces, loaded_known_face_names = load_known_faces_from_file('known_faces_data.pkl')\n",
        "\n",
        "    while True:\n",
        "        # Capture frame-by-frame\n",
        "        ret, frame = video_capture.read()\n",
        "\n",
        "        # Recognize faces and display the result\n",
        "        frame_with_recognition = recognize_faces(frame, known_faces, known_face_names)\n",
        "\n",
        "        # Display the resulting frame\n",
        "        plt.imshow(frame_with_recognition[:, :, ::-1])  # Convert BGR to RGB for Matplotlib\n",
        "        plt.show()\n",
        "\n",
        "        # Break the loop if 'q' key is pressed\n",
        "        if cv2.waitKey(1) & 0xFF == ord('q'):\n",
        "            break\n",
        "\n",
        "    # Release the camera and close all OpenCV windows\n",
        "    video_capture.release()\n",
        "    cv2.destroyAllWindows()\n"
      ],
      "metadata": {
        "id": "7QDpfN9YBgNc"
      },
      "execution_count": 8,
      "outputs": []
    },
    {
      "cell_type": "markdown",
      "source": [
        "## 6. Execute the Code\n",
        "\n",
        "**Execute face recognition on known and unknown faces**"
      ],
      "metadata": {
        "id": "RN0fJXAVKgrn"
      }
    },
    {
      "cell_type": "code",
      "source": [
        "if __name__ == \"__main__\":\n",
        "    known_faces, known_face_names = load_known_faces(known_faces_folder)\n",
        "    recognize_faces(unknown_faces_folder, known_faces, known_face_names)"
      ],
      "metadata": {
        "id": "-q_vg2uuAjoy",
        "colab": {
          "base_uri": "https://localhost:8080/"
        },
        "outputId": "f21bcdf4-865d-4934-e2d1-7df500eff836"
      },
      "execution_count": 9,
      "outputs": [
        {
          "output_type": "stream",
          "name": "stdout",
          "text": [
            "biden found in biden3.jpg\n",
            "obama found in ob2.jpg\n",
            "Houari Boumediene found in bou2.jpg\n",
            "obama found in ob3.jpg\n",
            "Houari Boumediene found in bou4.jpg\n",
            "biden found in 6000.jpg\n"
          ]
        }
      ]
    },
    {
      "cell_type": "markdown",
      "source": [
        "**Execute main function for camera testing**"
      ],
      "metadata": {
        "id": "flrhJCCXMpbq"
      }
    },
    {
      "cell_type": "code",
      "source": [
        "if __name__ == \"__main__\":\n",
        "    main(known_faces_folder)"
      ],
      "metadata": {
        "id": "7YlfbJPCB2fZ"
      },
      "execution_count": null,
      "outputs": []
    }
  ]
}